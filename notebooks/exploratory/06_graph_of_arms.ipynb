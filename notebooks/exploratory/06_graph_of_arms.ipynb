{
 "cells": [
  {
   "cell_type": "code",
   "execution_count": 25,
   "id": "9c77fcd1",
   "metadata": {},
   "outputs": [],
   "source": [
    "import sys\n",
    "sys.path.append('../../src')\n",
    "from models.domain_knowledge import GraphArmKnowledge\n",
    "import pandas as pd\n",
    "import numpy as np\n",
    "from collections import Counter"
   ]
  },
  {
   "cell_type": "code",
   "execution_count": 17,
   "id": "3712439c",
   "metadata": {},
   "outputs": [],
   "source": [
    "reward_df = pd.read_csv('../../data/processed/rewards/top/con_rewards_w15_s10_pearson_top_1.csv',index_col=0)\n",
    "arms = reward_df.columns.values"
   ]
  },
  {
   "cell_type": "code",
   "execution_count": 33,
   "id": "9fe1bad8",
   "metadata": {},
   "outputs": [],
   "source": [
    "gk = GraphArmKnowledge(arms)"
   ]
  },
  {
   "cell_type": "markdown",
   "id": "806b2a5e",
   "metadata": {},
   "source": [
    "Lets explore the groups of the arms:"
   ]
  },
  {
   "cell_type": "code",
   "execution_count": 34,
   "id": "c1534b97",
   "metadata": {},
   "outputs": [
    {
     "data": {
      "text/plain": [
       "'Number of groups: 72'"
      ]
     },
     "metadata": {},
     "output_type": "display_data"
    },
    {
     "data": {
      "text/plain": [
       "'Group size : Number of groups'"
      ]
     },
     "metadata": {},
     "output_type": "display_data"
    },
    {
     "data": {
      "text/plain": [
       "Counter({15: 1, 4: 51, 6: 6, 12: 15})"
      ]
     },
     "metadata": {},
     "output_type": "display_data"
    }
   ],
   "source": [
    "groups = gk.get_group_of_arms()\n",
    "display('Number of groups: %d' % groups.max())\n",
    "display('Group size : Number of groups')\n",
    "display(Counter(Counter(groups).values()))"
   ]
  }
 ],
 "metadata": {
  "kernelspec": {
   "display_name": "Python 3",
   "language": "python",
   "name": "python3"
  },
  "language_info": {
   "codemirror_mode": {
    "name": "ipython",
    "version": 3
   },
   "file_extension": ".py",
   "mimetype": "text/x-python",
   "name": "python",
   "nbconvert_exporter": "python",
   "pygments_lexer": "ipython3",
   "version": "3.9.4"
  }
 },
 "nbformat": 4,
 "nbformat_minor": 5
}
