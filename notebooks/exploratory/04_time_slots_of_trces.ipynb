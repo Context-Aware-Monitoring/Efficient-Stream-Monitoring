{
 "cells": [
  {
   "cell_type": "markdown",
   "id": "716bccb7",
   "metadata": {},
   "source": [
    "This notebook shows the timeframes in which we have trace data"
   ]
  },
  {
   "cell_type": "code",
   "execution_count": 2,
   "id": "083747cd",
   "metadata": {},
   "outputs": [],
   "source": [
    "import sys\n",
    "sys.path.append('../../src')\n",
    "import trace_information as ti"
   ]
  },
  {
   "cell_type": "code",
   "execution_count": 3,
   "id": "d0487ac1",
   "metadata": {},
   "outputs": [
    {
     "name": "stdout",
     "output_type": "stream",
     "text": [
      "Start: 2019-11-19T17:38:49\n",
      "Stop: 2019-11-19 18:44:11\n",
      "Start: 2019-11-19T19:59:58\n",
      "Stop: 2019-11-19 20:27:03\n",
      "Start: 2019-11-19T21:45:54\n",
      "Stop: 2019-11-20 01:08:23\n"
     ]
    }
   ],
   "source": [
    "ti.print_time_window_for_traces(\n",
    "        ['../../data/raw/sequential_data/traces/image_create_delete/'])\n",
    "ti.print_time_window_for_traces(\n",
    "        ['../../data/raw/sequential_data/traces/network_create_delete/'])\n",
    "ti.print_time_window_for_traces(\n",
    "        ['../../data/raw/sequential_data/traces/boot_delete/'])"
   ]
  },
  {
   "cell_type": "code",
   "execution_count": 3,
   "id": "fe6f6085",
   "metadata": {},
   "outputs": [
    {
     "name": "stdout",
     "output_type": "stream",
     "text": [
      "Start: 2019-11-25T15:12:26\n",
      "Stop: 2019-11-25 19:36:29\n",
      "Start: 2019-11-25T15:12:39\n",
      "Stop: 2019-11-25 17:50:40\n",
      "Start: 2019-11-25T15:13:05\n",
      "Stop: 2019-11-25 18:17:59\n"
     ]
    }
   ],
   "source": [
    "ti.print_time_window_for_traces(\n",
    "        ['../../data/raw/concurrent_data/traces/boot_delete/'])\n",
    "ti.print_time_window_for_traces(\n",
    "        ['../../data/raw/concurrent_data/traces/image_create_delete/'])\n",
    "ti.print_time_window_for_traces(\n",
    "        ['../../data/raw/concurrent_data/traces/network_create_delete/'])\n"
   ]
  }
 ],
 "metadata": {
  "kernelspec": {
   "display_name": "Python 3",
   "language": "python",
   "name": "python3"
  },
  "language_info": {
   "codemirror_mode": {
    "name": "ipython",
    "version": 3
   },
   "file_extension": ".py",
   "mimetype": "text/x-python",
   "name": "python",
   "nbconvert_exporter": "python",
   "pygments_lexer": "ipython3",
   "version": "3.9.4"
  }
 },
 "nbformat": 4,
 "nbformat_minor": 5
}
